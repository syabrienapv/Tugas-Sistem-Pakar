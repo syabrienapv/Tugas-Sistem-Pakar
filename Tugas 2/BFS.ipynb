{
 "cells": [
  {
   "cell_type": "code",
   "execution_count": 1,
   "metadata": {},
   "outputs": [],
   "source": [
    "graph1 = {\n",
    "    'A' : set(['B','S']),\n",
    "    'B' : set(['A']),\n",
    "    'C' : set(['D','E','F','S']),\n",
    "    'D' : set(['C']),\n",
    "    'E' : set(['C','H']),\n",
    "    'F' : set(['C','G']),\n",
    "    'G' : set(['F','S']),\n",
    "    'H' : set(['E','G']),\n",
    "    'S' : set(['A','C','G'])\n",
    "}"
   ]
  },
  {
   "cell_type": "code",
   "execution_count": 2,
   "metadata": {},
   "outputs": [
    {
     "name": "stdout",
     "output_type": "stream",
     "text": [
      "['A']\n",
      "['A']\n",
      "['A', 'S']\n",
      "['A', 'S']\n",
      "['A', 'S', 'C']\n",
      "['A', 'S', 'C']\n",
      "['A', 'S', 'G']\n",
      "['A', 'S', 'C', 'F']\n",
      "['A', 'S', 'C', 'E']\n",
      "['A', 'S', 'G', 'F']\n",
      "['A', 'S', 'C', 'E', 'H']\n",
      "['A', 'S', 'G', 'F', 'C']\n",
      "['A', 'S', 'C', 'E', 'H', 'G']\n",
      "['A', 'S', 'G', 'F', 'C', 'E']\n"
     ]
    },
    {
     "data": {
      "text/plain": [
       "[['A', 'S', 'C', 'D'], ['A', 'S', 'G', 'F', 'C', 'D']]"
      ]
     },
     "execution_count": 2,
     "metadata": {},
     "output_type": "execute_result"
    }
   ],
   "source": [
    "def bfs_paths(graph1, start, goal):\n",
    "    queue = [(start, [start])]\n",
    "    while queue:\n",
    "        (vertex, path) = queue.pop(0)\n",
    "        for next in graph1[vertex] - set(path):\n",
    "            if next == goal:\n",
    "                yield path + [next]\n",
    "            else:\n",
    "                queue.append((next, path + [next]))\n",
    "\n",
    "list(bfs_paths(graph1, 'A', 'D')) "
   ]
  },
  {
   "cell_type": "code",
   "execution_count": null,
   "metadata": {},
   "outputs": [],
   "source": []
  }
 ],
 "metadata": {
  "kernelspec": {
   "display_name": "Python 3",
   "language": "python",
   "name": "python3"
  },
  "language_info": {
   "codemirror_mode": {
    "name": "ipython",
    "version": 3
   },
   "file_extension": ".py",
   "mimetype": "text/x-python",
   "name": "python",
   "nbconvert_exporter": "python",
   "pygments_lexer": "ipython3",
   "version": "3.7.3"
  }
 },
 "nbformat": 4,
 "nbformat_minor": 2
}
